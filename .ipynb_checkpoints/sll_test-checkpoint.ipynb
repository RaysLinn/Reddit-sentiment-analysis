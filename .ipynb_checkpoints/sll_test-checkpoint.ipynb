{
 "cells": [
  {
   "cell_type": "code",
   "execution_count": 1,
   "metadata": {},
   "outputs": [],
   "source": [
    "'''\n",
    "HOW TO INSTALL \n",
    "-pip install nltk\n",
    "-nltk.download('vader_Lexicon')\n",
    "'''"
   ]
  },
  {
   "cell_type": "code",
   "execution_count": 2,
   "metadata": {},
   "outputs": [],
   "source": [
    "# import Natural Language Tool Kit (nltk) with vader sentiment analyzer\n",
    "import nltk\n",
    "#nltk.download('vader_lexicon')                             # download english language words\n",
    "from nltk.sentiment.vader import SentimentIntensityAnalyzer\n",
    "SIA = SentimentIntensityAnalyzer()                          # initialize sentiment intensity analyzer"
   ]
  },
  {
   "cell_type": "code",
   "execution_count": 3,
   "metadata": {},
   "outputs": [
    {
     "data": {
      "text/plain": [
       "{'neg': 0.0, 'neu': 0.556, 'pos': 0.444, 'compound': 0.4927}"
      ]
     },
     "execution_count": 3,
     "metadata": {},
     "output_type": "execute_result"
    }
   ],
   "source": [
    "# test on a single sentence\n",
    "data = 'GIS is a very enjoyable degree'\n",
    "\n",
    "SIA.polarity_scores(data) # calculate polarity scores"
   ]
  },
  {
   "cell_type": "code",
   "execution_count": 4,
   "metadata": {},
   "outputs": [
    {
     "data": {
      "text/plain": [
       "\"\\nhere we have four outputs:\\n'neg' - negative sentiment score\\n'neu' - neutral sentiment score\\n'pos' - positive sentiment score\\n'compound' - normalisation of the above scores\\n\""
      ]
     },
     "execution_count": 4,
     "metadata": {},
     "output_type": "execute_result"
    }
   ],
   "source": [
    "'''\n",
    "here we have four outputs:\n",
    "'neg' - negative sentiment score\n",
    "'neu' - neutral sentiment score\n",
    "'pos' - positive sentiment score\n",
    "'compound' - normalisation of the above scores\n",
    "'''"
   ]
  },
  {
   "cell_type": "code",
   "execution_count": 5,
   "metadata": {},
   "outputs": [
    {
     "name": "stdout",
     "output_type": "stream",
     "text": [
      "{'neg': 0.722, 'neu': 0.278, 'pos': 0.0, 'compound': -0.3818}\n",
      "{'neg': 0.223, 'neu': 0.777, 'pos': 0.0, 'compound': -0.3182}\n",
      "{'neg': 0.0, 'neu': 1.0, 'pos': 0.0, 'compound': 0.0}\n",
      "{'neg': 0.0, 'neu': 0.589, 'pos': 0.411, 'compound': 0.68}\n",
      "{'neg': 0.49, 'neu': 0.51, 'pos': 0.0, 'compound': -0.4364}\n",
      "{'neg': 0.0, 'neu': 1.0, 'pos': 0.0, 'compound': 0.0}\n",
      "{'neg': 0.0, 'neu': 0.317, 'pos': 0.683, 'compound': 0.8225}\n",
      "{'neg': 0.558, 'neu': 0.442, 'pos': 0.0, 'compound': -0.743}\n"
     ]
    },
    {
     "data": {
      "text/plain": [
       "0.722"
      ]
     },
     "execution_count": 5,
     "metadata": {},
     "output_type": "execute_result"
    }
   ],
   "source": [
    "# test on a few sentences\n",
    "data = ['I dislike apples', \n",
    "        'I lost all my work when the geocomp computer crashed', \n",
    "        'why is my student loan so high?',\n",
    "        \"I sure am glad we didn't have to do lab 3!\",\n",
    "        'COVID really is a bummer',\n",
    "        'I am likely to be unemployed when I graduate',\n",
    "        'I love the feeling of a good spatial analysis',\n",
    "        'oh no human geography is the worst']\n",
    "sentiment_output = {} # an empty dict for the sentiment analysis outputs\n",
    "\n",
    "for statement in data:                                            # for every string in the list of statements\n",
    "    sentiment_output[statement] = SIA.polarity_scores(statement)  # add key of statement to dict, with VADER as value\n",
    "    print(sentiment_output[statement])                            # print output\n",
    "\n",
    "sentiment_output[data[0]]['neg'] # example of how to get negative output of a statement"
   ]
  },
  {
   "cell_type": "code",
   "execution_count": 6,
   "metadata": {},
   "outputs": [
    {
     "data": {
      "text/plain": [
       "[<matplotlib.lines.Line2D at 0x19cee8576d0>]"
      ]
     },
     "execution_count": 6,
     "metadata": {},
     "output_type": "execute_result"
    },
    {
     "data": {
      "image/png": "[encoded data removed]",
      "text/plain": [
       "<Figure size 432x288 with 1 Axes>"
      ]
     },
     "metadata": {
      "needs_background": "light"
     },
     "output_type": "display_data"
    }
   ],
   "source": [
    "# plot output\n",
    "import seaborn as sns # plotting package (fancy matplotlib)\n",
    "\n",
    "# lists to put series of data\n",
    "x = []\n",
    "y = []\n",
    "\n",
    "# iterate through sentiment output dictionary, add keys and values to x and y series\n",
    "for key, value in sentiment_output.items():\n",
    "    y.append(key)\n",
    "    x.append(value['compound'])\n",
    "\n",
    "plot = sns.barplot(x=x, y=y, orient='h')                                               # create bar plot, plot data\n",
    "plot.set_xlabel('Compound Sentiment')                                                  # set x axis label\n",
    "plot.set(xlim=(-1, 1), xticks=[-1, -0.8, -0.6, -0.4, -0.2, 0, 0.2, 0.4, 0.6, 0.8, 1])  # set limits on x axis\n",
    "plot.plot([0, 0], [0, 7], color='black', linewidth=1, linestyle='dashed')              # plot origin line"
   ]
  },
  {
   "cell_type": "code",
   "execution_count": 7,
   "metadata": {},
   "outputs": [
    {
     "data": {
      "text/html": [
       "<div>\n",
       "<style scoped>\n",
       "    .dataframe tbody tr th:only-of-type {\n",
       "        vertical-align: middle;\n",
       "    }\n",
       "\n",
       "    .dataframe tbody tr th {\n",
       "        vertical-align: top;\n",
       "    }\n",
       "\n",
       "    .dataframe thead th {\n",
       "        text-align: right;\n",
       "    }\n",
       "</style>\n",
       "<table border=\"1\" class=\"dataframe\">\n",
       "  <thead>\n",
       "    <tr style=\"text-align: right;\">\n",
       "      <th></th>\n",
       "      <th>index</th>\n",
       "      <th>headline</th>\n",
       "    </tr>\n",
       "  </thead>\n",
       "  <tbody>\n",
       "    <tr>\n",
       "      <th>0</th>\n",
       "      <td>0</td>\n",
       "      <td>Corrections staff member was injured in Dunedi...</td>\n",
       "    </tr>\n",
       "    <tr>\n",
       "      <th>1</th>\n",
       "      <td>1</td>\n",
       "      <td>Covid-19 update: No new cases in New Zealand t...</td>\n",
       "    </tr>\n",
       "    <tr>\n",
       "      <th>2</th>\n",
       "      <td>2</td>\n",
       "      <td>Hipkins on public sector pay: 'It's the opposi...</td>\n",
       "    </tr>\n",
       "    <tr>\n",
       "      <th>3</th>\n",
       "      <td>3</td>\n",
       "      <td>Use of police dog to bit fleeing teen driver n...</td>\n",
       "    </tr>\n",
       "    <tr>\n",
       "      <th>4</th>\n",
       "      <td>4</td>\n",
       "      <td>No MIQ spaces for dairy workers, farms suffer ...</td>\n",
       "    </tr>\n",
       "  </tbody>\n",
       "</table>\n",
       "</div>"
      ],
      "text/plain": [
       "   index                                           headline\n",
       "0      0  Corrections staff member was injured in Dunedi...\n",
       "1      1  Covid-19 update: No new cases in New Zealand t...\n",
       "2      2  Hipkins on public sector pay: 'It's the opposi...\n",
       "3      3  Use of police dog to bit fleeing teen driver n...\n",
       "4      4  No MIQ spaces for dairy workers, farms suffer ..."
      ]
     },
     "execution_count": 7,
     "metadata": {},
     "output_type": "execute_result"
    }
   ],
   "source": [
    "# running sentiment analysis on csv data (RNZ headlines)\n",
    "import pandas as pd                                        # to read csv files and save dataframes\n",
    " \n",
    "headlines_df = pd.read_csv('rnzheadlines_110521-1330.csv') # read csv file\n",
    "\n",
    "headlines_df.head()                                        # display first few rows"
   ]
  },
  {
   "cell_type": "code",
   "execution_count": 8,
   "metadata": {},
   "outputs": [
    {
     "data": {
      "text/html": [
       "<div>\n",
       "<style scoped>\n",
       "    .dataframe tbody tr th:only-of-type {\n",
       "        vertical-align: middle;\n",
       "    }\n",
       "\n",
       "    .dataframe tbody tr th {\n",
       "        vertical-align: top;\n",
       "    }\n",
       "\n",
       "    .dataframe thead th {\n",
       "        text-align: right;\n",
       "    }\n",
       "</style>\n",
       "<table border=\"1\" class=\"dataframe\">\n",
       "  <thead>\n",
       "    <tr style=\"text-align: right;\">\n",
       "      <th></th>\n",
       "      <th>index</th>\n",
       "      <th>headline</th>\n",
       "      <th>sentiment_score</th>\n",
       "      <th>sentiment_meaning</th>\n",
       "    </tr>\n",
       "  </thead>\n",
       "  <tbody>\n",
       "    <tr>\n",
       "      <th>0</th>\n",
       "      <td>0</td>\n",
       "      <td>Corrections staff member was injured in Dunedi...</td>\n",
       "      <td>-0.4019</td>\n",
       "      <td>negative</td>\n",
       "    </tr>\n",
       "    <tr>\n",
       "      <th>1</th>\n",
       "      <td>1</td>\n",
       "      <td>Covid-19 update: No new cases in New Zealand t...</td>\n",
       "      <td>-0.2960</td>\n",
       "      <td>negative</td>\n",
       "    </tr>\n",
       "    <tr>\n",
       "      <th>2</th>\n",
       "      <td>2</td>\n",
       "      <td>Hipkins on public sector pay: 'It's the opposi...</td>\n",
       "      <td>-0.1027</td>\n",
       "      <td>negative</td>\n",
       "    </tr>\n",
       "    <tr>\n",
       "      <th>3</th>\n",
       "      <td>3</td>\n",
       "      <td>Use of police dog to bit fleeing teen driver n...</td>\n",
       "      <td>-0.3089</td>\n",
       "      <td>negative</td>\n",
       "    </tr>\n",
       "    <tr>\n",
       "      <th>4</th>\n",
       "      <td>4</td>\n",
       "      <td>No MIQ spaces for dairy workers, farms suffer ...</td>\n",
       "      <td>-0.6908</td>\n",
       "      <td>negative</td>\n",
       "    </tr>\n",
       "    <tr>\n",
       "      <th>5</th>\n",
       "      <td>5</td>\n",
       "      <td>Alleged racial slurs lead to Wellington club r...</td>\n",
       "      <td>0.0000</td>\n",
       "      <td>neutral</td>\n",
       "    </tr>\n",
       "    <tr>\n",
       "      <th>6</th>\n",
       "      <td>6</td>\n",
       "      <td>Snow, heavy rain and strong wind to hit the co...</td>\n",
       "      <td>0.5106</td>\n",
       "      <td>positive</td>\n",
       "    </tr>\n",
       "    <tr>\n",
       "      <th>7</th>\n",
       "      <td>7</td>\n",
       "      <td>ACC acknowledges commitment to Maori health ou...</td>\n",
       "      <td>0.3818</td>\n",
       "      <td>positive</td>\n",
       "    </tr>\n",
       "    <tr>\n",
       "      <th>8</th>\n",
       "      <td>8</td>\n",
       "      <td>NBC drops 2022 Golden Globes, Tom Cruise retur...</td>\n",
       "      <td>0.0000</td>\n",
       "      <td>neutral</td>\n",
       "    </tr>\n",
       "    <tr>\n",
       "      <th>9</th>\n",
       "      <td>9</td>\n",
       "      <td>'He was screaming he was going to kill me'</td>\n",
       "      <td>-0.8074</td>\n",
       "      <td>negative</td>\n",
       "    </tr>\n",
       "    <tr>\n",
       "      <th>10</th>\n",
       "      <td>10</td>\n",
       "      <td>Supermarket stabbing: Man charged with four co...</td>\n",
       "      <td>-0.7579</td>\n",
       "      <td>negative</td>\n",
       "    </tr>\n",
       "    <tr>\n",
       "      <th>11</th>\n",
       "      <td>11</td>\n",
       "      <td>Govt waited for investigation before revealing...</td>\n",
       "      <td>0.0000</td>\n",
       "      <td>neutral</td>\n",
       "    </tr>\n",
       "    <tr>\n",
       "      <th>12</th>\n",
       "      <td>12</td>\n",
       "      <td>One All Black returns, another heads to France</td>\n",
       "      <td>0.0000</td>\n",
       "      <td>neutral</td>\n",
       "    </tr>\n",
       "    <tr>\n",
       "      <th>13</th>\n",
       "      <td>13</td>\n",
       "      <td>Fiji maintains Covid containment zones on Viti...</td>\n",
       "      <td>0.0000</td>\n",
       "      <td>neutral</td>\n",
       "    </tr>\n",
       "  </tbody>\n",
       "</table>\n",
       "</div>"
      ],
      "text/plain": [
       "    index                                           headline  sentiment_score  \\\n",
       "0       0  Corrections staff member was injured in Dunedi...          -0.4019   \n",
       "1       1  Covid-19 update: No new cases in New Zealand t...          -0.2960   \n",
       "2       2  Hipkins on public sector pay: 'It's the opposi...          -0.1027   \n",
       "3       3  Use of police dog to bit fleeing teen driver n...          -0.3089   \n",
       "4       4  No MIQ spaces for dairy workers, farms suffer ...          -0.6908   \n",
       "5       5  Alleged racial slurs lead to Wellington club r...           0.0000   \n",
       "6       6  Snow, heavy rain and strong wind to hit the co...           0.5106   \n",
       "7       7  ACC acknowledges commitment to Maori health ou...           0.3818   \n",
       "8       8  NBC drops 2022 Golden Globes, Tom Cruise retur...           0.0000   \n",
       "9       9         'He was screaming he was going to kill me'          -0.8074   \n",
       "10     10  Supermarket stabbing: Man charged with four co...          -0.7579   \n",
       "11     11  Govt waited for investigation before revealing...           0.0000   \n",
       "12     12     One All Black returns, another heads to France           0.0000   \n",
       "13     13  Fiji maintains Covid containment zones on Viti...           0.0000   \n",
       "\n",
       "   sentiment_meaning  \n",
       "0           negative  \n",
       "1           negative  \n",
       "2           negative  \n",
       "3           negative  \n",
       "4           negative  \n",
       "5            neutral  \n",
       "6           positive  \n",
       "7           positive  \n",
       "8            neutral  \n",
       "9           negative  \n",
       "10          negative  \n",
       "11           neutral  \n",
       "12           neutral  \n",
       "13           neutral  "
      ]
     },
     "execution_count": 8,
     "metadata": {},
     "output_type": "execute_result"
    }
   ],
   "source": [
    "# add new columns for score and meaning of score \n",
    "headlines_df['sentiment_score'] = float(0)\n",
    "headlines_df['sentiment_meaning'] = \"\"\n",
    "\n",
    "# iterate through saved dataframe, analyze sentiment, save sentiment and meaning into new columns of dataframe\n",
    "for index, row in headlines_df.iterrows():\n",
    "    headlines_df.at[index, 'sentiment_score'] = SIA.polarity_scores(row['headline'])['compound']\n",
    "    if (headlines_df.at[index, 'sentiment_score'] > 0):\n",
    "        headlines_df.at[index, 'sentiment_meaning'] = \"positive\"\n",
    "    elif (headlines_df.at[index, 'sentiment_score'] < 0):\n",
    "        headlines_df.at[index, 'sentiment_meaning'] = \"negative\"\n",
    "    else:\n",
    "        headlines_df.at[index, 'sentiment_meaning'] = \"neutral\"\n",
    "    \n",
    "headlines_df # display output"
   ]
  }
 ],
 "metadata": {
  "kernelspec": {
   "display_name": "Python 3",
   "language": "python",
   "name": "python3"
  },
  "language_info": {
   "codemirror_mode": {
    "name": "ipython",
    "version": 3
   },
   "file_extension": ".py",
   "mimetype": "text/x-python",
   "name": "python",
   "nbconvert_exporter": "python",
   "pygments_lexer": "ipython3",
   "version": "3.8.5"
  }
 },
 "nbformat": 4,
 "nbformat_minor": 5
}
