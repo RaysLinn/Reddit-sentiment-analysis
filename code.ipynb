{
 "cells": [
  {
   "cell_type": "markdown",
   "metadata": {
    "slideshow": {
     "slide_type": "slide"
    }
   },
   "source": [
    "# Sentiment Analysis\n",
    "\n",
    "![](SA1.jpg)\n",
    "\n",
    "Retrieved from https://blog.reputationx.com/reputation-sentiment"
   ]
  },
  {
   "cell_type": "markdown",
   "metadata": {
    "slideshow": {
     "slide_type": "slide"
    }
   },
   "source": [
    "# What is Sentiment Analysis? \n",
    "\n",
    "- Opinion mining of text by determining its tone (positive, negative, neutral) using Natural Language Processing \n",
    "\n",
    "- VADER: Valence Aware Dictionary for Sentiment Reasoning\n",
    "    \n",
    "- Rule-based, considers the intensity of emotion and polarity when analysing data\n",
    "\n",
    "- Returns sentiment score on scale from -1 to 1 (or confidence score, depends on algorithm).\n"
   ]
  },
  {
   "cell_type": "markdown",
   "metadata": {
    "slideshow": {
     "slide_type": "subslide"
    }
   },
   "source": [
    "## What issues can Sentiment Analysis help solve?\n",
    "- Monitoring reputation of businesses, their products and services \n",
    "- Sentiment of tweets analysed to examine effectiveness of customer service (Guercini et al., 2014)\n",
    "\n",
    "- Sentiment Analysis for Emergency situations: Looking for improvements in crisis management, situational awareness for natural disasters (Beigi et al., 2016)\n",
    "\n",
    "- Using georeferenced data from local crowds to provide      emergency aid, analyse extent of disasters.\n",
    "\n",
    "<img src=\"twitter.png\" alt=\"Drawing\" style=\"width: 200px;\"/>"
   ]
  },
  {
   "cell_type": "markdown",
   "metadata": {
    "slideshow": {
     "slide_type": "slide"
    }
   },
   "source": [
    "# Where was Sentiment Analysis derived from?\n",
    "\n",
    " - Mantyla et al. (2018) stated the first instances of sentiment analysis appeared post-WWII where studies were carried out to measure the public opinion in a highly political climate. Modern sentiment analysis came about in the mid-2000s where product reviews became increasingly available on the internet. It was after this point that sentiment analysis grew in a technical and popular way to understand public discourse around world and local events and product reviews. \n",
    "\n"
   ]
  },
  {
   "cell_type": "markdown",
   "metadata": {
    "slideshow": {
     "slide_type": "subslide"
    }
   },
   "source": [
    "## What was used before Sentiment Analysis?\n",
    "\n",
    " - Surveys were the most common form of getting an understanding on how people felt about a particular topic (and/or product) as we as interviews. Prior to big data analysis, questionnaires were relatively short to make analysing the data easier. Because of this, people were provided with a short description of a topic or a prompt and asked how they “felt” about the topic.\n",
    " <img src=\"survey.jpg\" alt=\"Drawing\" style=\"width: 200px;\"/>"
   ]
  },
  {
   "cell_type": "markdown",
   "metadata": {
    "slideshow": {
     "slide_type": "slide"
    }
   },
   "source": [
    "# Where has Sentiment Analysis been used in Science?\n",
    "\n",
    " - Sentiment analysis has been proven to be effective in a variety of real-world applications.\n",
    "\n",
    "\n",
    " - VADER’s effectiveness was compared to other similar machine learning algorithms, including LIWC (Hutto and Gilbert, 2014)\n",
    " - All models were evaluated in various online domains such as new articles, social media platforms and review sites.\n",
    " - Results conclude that VADER performed better than all other models while also performing on par and sometimes even outperformed human raters. \n",
    "<img src=\"disaster.png\" alt=\"Drawing\" style=\"width: 200px;\"/>\n",
    "\n"
   ]
  },
  {
   "cell_type": "markdown",
   "metadata": {
    "slideshow": {
     "slide_type": "subslide"
    }
   },
   "source": [
    " - Are Twitter posts an indicator of political sentiment and could it predict elections \n",
    "outcomes? (A. Tumasjan et al., 2010)\n",
    " - LIWC (Linguistic Inquiry Word Count) analysed over 100,000 Tweets \n",
    "referencing the 2009 German federal election.\n",
    "Found that the number of tweets was a valid representation of voter \n",
    "preferences while the sentiment of tweets closely mirrors the campaign \n",
    "messages.\n",
    "![](business.png)"
   ]
  },
  {
   "cell_type": "code",
   "execution_count": 1,
   "metadata": {
    "slideshow": {
     "slide_type": "slide"
    }
   },
   "outputs": [
    {
     "data": {
      "text/plain": [
       "\"\\nHOW TO INSTALL \\n-pip install nltk\\n-nltk.download('vader_Lexicon')\\n\""
      ]
     },
     "execution_count": 1,
     "metadata": {},
     "output_type": "execute_result"
    }
   ],
   "source": [
    "'''\n",
    "HOW TO INSTALL \n",
    "-pip install nltk\n",
    "-nltk.download('vader_Lexicon')\n",
    "'''"
   ]
  },
  {
   "cell_type": "markdown",
   "metadata": {
    "slideshow": {
     "slide_type": "fragment"
    }
   },
   "source": [
    "http://www.nltk.org/install.html"
   ]
  },
  {
   "cell_type": "code",
   "execution_count": 2,
   "metadata": {
    "slideshow": {
     "slide_type": "slide"
    }
   },
   "outputs": [],
   "source": [
    "# import Natural Language Tool Kit (nltk) with vader sentiment analyzer\n",
    "import nltk\n",
    "#nltk.download('vader_lexicon')                             # download english language words\n",
    "from nltk.sentiment.vader import SentimentIntensityAnalyzer\n",
    "SIA = SentimentIntensityAnalyzer()                          # initialize sentiment intensity analyzer"
   ]
  },
  {
   "cell_type": "code",
   "execution_count": 3,
   "metadata": {
    "slideshow": {
     "slide_type": "fragment"
    }
   },
   "outputs": [
    {
     "data": {
      "text/plain": [
       "{'neg': 0.0, 'neu': 0.556, 'pos': 0.444, 'compound': 0.4927}"
      ]
     },
     "execution_count": 3,
     "metadata": {},
     "output_type": "execute_result"
    }
   ],
   "source": [
    "# test on a single sentence\n",
    "data = 'GIS is a very enjoyable degree'\n",
    "\n",
    "SIA.polarity_scores(data) # calculate polarity scores"
   ]
  },
  {
   "cell_type": "code",
   "execution_count": 4,
   "metadata": {
    "slideshow": {
     "slide_type": "fragment"
    }
   },
   "outputs": [
    {
     "data": {
      "text/plain": [
       "\"\\nhere we have four outputs:\\n'neg' - negative sentiment score\\n'neu' - neutral sentiment score\\n'pos' - positive sentiment score\\n'compound' - normalisation of the above scores\\n\""
      ]
     },
     "execution_count": 4,
     "metadata": {},
     "output_type": "execute_result"
    }
   ],
   "source": [
    "'''\n",
    "here we have four outputs:\n",
    "'neg' - negative sentiment score\n",
    "'neu' - neutral sentiment score\n",
    "'pos' - positive sentiment score\n",
    "'compound' - normalisation of the above scores\n",
    "'''"
   ]
  },
  {
   "cell_type": "code",
   "execution_count": 5,
   "metadata": {
    "slideshow": {
     "slide_type": "subslide"
    }
   },
   "outputs": [
    {
     "name": "stdout",
     "output_type": "stream",
     "text": [
      "{'neg': 0.722, 'neu': 0.278, 'pos': 0.0, 'compound': -0.3818}\n",
      "{'neg': 0.223, 'neu': 0.777, 'pos': 0.0, 'compound': -0.3182}\n",
      "{'neg': 0.0, 'neu': 1.0, 'pos': 0.0, 'compound': 0.0}\n",
      "{'neg': 0.0, 'neu': 0.589, 'pos': 0.411, 'compound': 0.68}\n",
      "{'neg': 0.49, 'neu': 0.51, 'pos': 0.0, 'compound': -0.4364}\n",
      "{'neg': 0.0, 'neu': 1.0, 'pos': 0.0, 'compound': 0.0}\n",
      "{'neg': 0.0, 'neu': 0.317, 'pos': 0.683, 'compound': 0.8225}\n",
      "{'neg': 0.558, 'neu': 0.442, 'pos': 0.0, 'compound': -0.743}\n"
     ]
    },
    {
     "data": {
      "text/plain": [
       "0.722"
      ]
     },
     "execution_count": 5,
     "metadata": {},
     "output_type": "execute_result"
    }
   ],
   "source": [
    "# test on a few sentences\n",
    "data = ['I dislike apples', \n",
    "        'I lost all my work when the geocomp computer crashed', \n",
    "        'why is my student loan so high?',\n",
    "        \"I sure am glad we didn't have to do lab 3!\",\n",
    "        'COVID really is a bummer',\n",
    "        'I am likely to be unemployed when I graduate',\n",
    "        'I love the feeling of a good spatial analysis',\n",
    "        'oh no human geography is the worst']\n",
    "sentiment_output = {} # an empty dict for the sentiment analysis outputs\n",
    "\n",
    "for statement in data:                                            # for every string in the list of statements\n",
    "    sentiment_output[statement] = SIA.polarity_scores(statement)  # add key of statement to dict, with VADER as value\n",
    "    print(sentiment_output[statement])                            # print output\n",
    "\n",
    "sentiment_output[data[0]]['neg'] # example of how to get negative output of a statement"
   ]
  },
  {
   "cell_type": "code",
   "execution_count": 6,
   "metadata": {
    "slideshow": {
     "slide_type": "slide"
    }
   },
   "outputs": [
    {
     "data": {
      "text/plain": [
       "[<matplotlib.lines.Line2D at 0x1fd7af986d0>]"
      ]
     },
     "execution_count": 6,
     "metadata": {},
     "output_type": "execute_result"
    },
    {
     "data": {
      "image/png": "[encoded data removed]",
      "text/plain": [
       "<Figure size 432x288 with 1 Axes>"
      ]
     },
     "metadata": {
      "needs_background": "light"
     },
     "output_type": "display_data"
    }
   ],
   "source": [
    "# plot output\n",
    "import seaborn as sns # plotting package (fancy matplotlib)\n",
    "\n",
    "# lists to put series of data\n",
    "x = []\n",
    "y = []\n",
    "\n",
    "# iterate through sentiment output dictionary, add keys and values to x and y series\n",
    "for key, value in sentiment_output.items():\n",
    "    y.append(key)\n",
    "    x.append(value['compound'])\n",
    "\n",
    "plot = sns.barplot(x=x, y=y, orient='h')                                               # create bar plot, plot data\n",
    "plot.set_xlabel('Compound Sentiment')                                                  # set x axis label\n",
    "plot.set(xlim=(-1, 1), xticks=[-1, -0.8, -0.6, -0.4, -0.2, 0, 0.2, 0.4, 0.6, 0.8, 1])  # set limits on x axis\n",
    "plot.plot([0, 0], [0, 7], color='black', linewidth=1, linestyle='dashed')              # plot origin line"
   ]
  },
  {
   "cell_type": "code",
   "execution_count": 7,
   "metadata": {
    "slideshow": {
     "slide_type": "slide"
    }
   },
   "outputs": [
    {
     "data": {
      "text/html": [
       "<div>\n",
       "<style scoped>\n",
       "    .dataframe tbody tr th:only-of-type {\n",
       "        vertical-align: middle;\n",
       "    }\n",
       "\n",
       "    .dataframe tbody tr th {\n",
       "        vertical-align: top;\n",
       "    }\n",
       "\n",
       "    .dataframe thead th {\n",
       "        text-align: right;\n",
       "    }\n",
       "</style>\n",
       "<table border=\"1\" class=\"dataframe\">\n",
       "  <thead>\n",
       "    <tr style=\"text-align: right;\">\n",
       "      <th></th>\n",
       "      <th>index</th>\n",
       "      <th>headline</th>\n",
       "    </tr>\n",
       "  </thead>\n",
       "  <tbody>\n",
       "    <tr>\n",
       "      <th>0</th>\n",
       "      <td>0</td>\n",
       "      <td>Corrections staff member was injured in Dunedi...</td>\n",
       "    </tr>\n",
       "    <tr>\n",
       "      <th>1</th>\n",
       "      <td>1</td>\n",
       "      <td>Covid-19 update: No new cases in New Zealand t...</td>\n",
       "    </tr>\n",
       "    <tr>\n",
       "      <th>2</th>\n",
       "      <td>2</td>\n",
       "      <td>Hipkins on public sector pay: 'It's the opposi...</td>\n",
       "    </tr>\n",
       "    <tr>\n",
       "      <th>3</th>\n",
       "      <td>3</td>\n",
       "      <td>Use of police dog to bit fleeing teen driver n...</td>\n",
       "    </tr>\n",
       "    <tr>\n",
       "      <th>4</th>\n",
       "      <td>4</td>\n",
       "      <td>No MIQ spaces for dairy workers, farms suffer ...</td>\n",
       "    </tr>\n",
       "  </tbody>\n",
       "</table>\n",
       "</div>"
      ],
      "text/plain": [
       "   index                                           headline\n",
       "0      0  Corrections staff member was injured in Dunedi...\n",
       "1      1  Covid-19 update: No new cases in New Zealand t...\n",
       "2      2  Hipkins on public sector pay: 'It's the opposi...\n",
       "3      3  Use of police dog to bit fleeing teen driver n...\n",
       "4      4  No MIQ spaces for dairy workers, farms suffer ..."
      ]
     },
     "execution_count": 7,
     "metadata": {},
     "output_type": "execute_result"
    }
   ],
   "source": [
    "# running sentiment analysis on csv data (RNZ headlines)\n",
    "import pandas as pd                                        # to read csv files and save dataframes\n",
    " \n",
    "headlines_df = pd.read_csv('rnzheadlines_110521-1330.csv') # read csv file\n",
    "\n",
    "headlines_df.head()                                        # display first few rows"
   ]
  },
  {
   "cell_type": "code",
   "execution_count": 8,
   "metadata": {
    "scrolled": true,
    "slideshow": {
     "slide_type": "slide"
    }
   },
   "outputs": [
    {
     "data": {
      "text/html": [
       "<div>\n",
       "<style scoped>\n",
       "    .dataframe tbody tr th:only-of-type {\n",
       "        vertical-align: middle;\n",
       "    }\n",
       "\n",
       "    .dataframe tbody tr th {\n",
       "        vertical-align: top;\n",
       "    }\n",
       "\n",
       "    .dataframe thead th {\n",
       "        text-align: right;\n",
       "    }\n",
       "</style>\n",
       "<table border=\"1\" class=\"dataframe\">\n",
       "  <thead>\n",
       "    <tr style=\"text-align: right;\">\n",
       "      <th></th>\n",
       "      <th>index</th>\n",
       "      <th>headline</th>\n",
       "      <th>sentiment_score</th>\n",
       "      <th>sentiment_meaning</th>\n",
       "    </tr>\n",
       "  </thead>\n",
       "  <tbody>\n",
       "    <tr>\n",
       "      <th>0</th>\n",
       "      <td>0</td>\n",
       "      <td>Corrections staff member was injured in Dunedi...</td>\n",
       "      <td>-0.4019</td>\n",
       "      <td>negative</td>\n",
       "    </tr>\n",
       "    <tr>\n",
       "      <th>1</th>\n",
       "      <td>1</td>\n",
       "      <td>Covid-19 update: No new cases in New Zealand t...</td>\n",
       "      <td>-0.2960</td>\n",
       "      <td>negative</td>\n",
       "    </tr>\n",
       "    <tr>\n",
       "      <th>2</th>\n",
       "      <td>2</td>\n",
       "      <td>Hipkins on public sector pay: 'It's the opposi...</td>\n",
       "      <td>-0.1027</td>\n",
       "      <td>negative</td>\n",
       "    </tr>\n",
       "    <tr>\n",
       "      <th>3</th>\n",
       "      <td>3</td>\n",
       "      <td>Use of police dog to bit fleeing teen driver n...</td>\n",
       "      <td>-0.3089</td>\n",
       "      <td>negative</td>\n",
       "    </tr>\n",
       "    <tr>\n",
       "      <th>4</th>\n",
       "      <td>4</td>\n",
       "      <td>No MIQ spaces for dairy workers, farms suffer ...</td>\n",
       "      <td>-0.6908</td>\n",
       "      <td>negative</td>\n",
       "    </tr>\n",
       "    <tr>\n",
       "      <th>5</th>\n",
       "      <td>5</td>\n",
       "      <td>Alleged racial slurs lead to Wellington club r...</td>\n",
       "      <td>0.0000</td>\n",
       "      <td>neutral</td>\n",
       "    </tr>\n",
       "    <tr>\n",
       "      <th>6</th>\n",
       "      <td>6</td>\n",
       "      <td>Snow, heavy rain and strong wind to hit the co...</td>\n",
       "      <td>0.5106</td>\n",
       "      <td>positive</td>\n",
       "    </tr>\n",
       "    <tr>\n",
       "      <th>7</th>\n",
       "      <td>7</td>\n",
       "      <td>ACC acknowledges commitment to Maori health ou...</td>\n",
       "      <td>0.3818</td>\n",
       "      <td>positive</td>\n",
       "    </tr>\n",
       "    <tr>\n",
       "      <th>8</th>\n",
       "      <td>8</td>\n",
       "      <td>NBC drops 2022 Golden Globes, Tom Cruise retur...</td>\n",
       "      <td>0.0000</td>\n",
       "      <td>neutral</td>\n",
       "    </tr>\n",
       "    <tr>\n",
       "      <th>9</th>\n",
       "      <td>9</td>\n",
       "      <td>'He was screaming he was going to kill me'</td>\n",
       "      <td>-0.8074</td>\n",
       "      <td>negative</td>\n",
       "    </tr>\n",
       "    <tr>\n",
       "      <th>10</th>\n",
       "      <td>10</td>\n",
       "      <td>Supermarket stabbing: Man charged with four co...</td>\n",
       "      <td>-0.7579</td>\n",
       "      <td>negative</td>\n",
       "    </tr>\n",
       "    <tr>\n",
       "      <th>11</th>\n",
       "      <td>11</td>\n",
       "      <td>Govt waited for investigation before revealing...</td>\n",
       "      <td>0.0000</td>\n",
       "      <td>neutral</td>\n",
       "    </tr>\n",
       "    <tr>\n",
       "      <th>12</th>\n",
       "      <td>12</td>\n",
       "      <td>One All Black returns, another heads to France</td>\n",
       "      <td>0.0000</td>\n",
       "      <td>neutral</td>\n",
       "    </tr>\n",
       "    <tr>\n",
       "      <th>13</th>\n",
       "      <td>13</td>\n",
       "      <td>Fiji maintains Covid containment zones on Viti...</td>\n",
       "      <td>0.0000</td>\n",
       "      <td>neutral</td>\n",
       "    </tr>\n",
       "  </tbody>\n",
       "</table>\n",
       "</div>"
      ],
      "text/plain": [
       "    index                                           headline  sentiment_score  \\\n",
       "0       0  Corrections staff member was injured in Dunedi...          -0.4019   \n",
       "1       1  Covid-19 update: No new cases in New Zealand t...          -0.2960   \n",
       "2       2  Hipkins on public sector pay: 'It's the opposi...          -0.1027   \n",
       "3       3  Use of police dog to bit fleeing teen driver n...          -0.3089   \n",
       "4       4  No MIQ spaces for dairy workers, farms suffer ...          -0.6908   \n",
       "5       5  Alleged racial slurs lead to Wellington club r...           0.0000   \n",
       "6       6  Snow, heavy rain and strong wind to hit the co...           0.5106   \n",
       "7       7  ACC acknowledges commitment to Maori health ou...           0.3818   \n",
       "8       8  NBC drops 2022 Golden Globes, Tom Cruise retur...           0.0000   \n",
       "9       9         'He was screaming he was going to kill me'          -0.8074   \n",
       "10     10  Supermarket stabbing: Man charged with four co...          -0.7579   \n",
       "11     11  Govt waited for investigation before revealing...           0.0000   \n",
       "12     12     One All Black returns, another heads to France           0.0000   \n",
       "13     13  Fiji maintains Covid containment zones on Viti...           0.0000   \n",
       "\n",
       "   sentiment_meaning  \n",
       "0           negative  \n",
       "1           negative  \n",
       "2           negative  \n",
       "3           negative  \n",
       "4           negative  \n",
       "5            neutral  \n",
       "6           positive  \n",
       "7           positive  \n",
       "8            neutral  \n",
       "9           negative  \n",
       "10          negative  \n",
       "11           neutral  \n",
       "12           neutral  \n",
       "13           neutral  "
      ]
     },
     "execution_count": 8,
     "metadata": {},
     "output_type": "execute_result"
    }
   ],
   "source": [
    "# add new columns for score and meaning of score \n",
    "headlines_df['sentiment_score'] = float(0)\n",
    "headlines_df['sentiment_meaning'] = \"\"\n",
    "\n",
    "# iterate through saved dataframe, analyze sentiment, save sentiment and meaning into new columns of dataframe\n",
    "for index, row in headlines_df.iterrows():\n",
    "    headlines_df.at[index, 'sentiment_score'] = SIA.polarity_scores(row['headline'])['compound']\n",
    "    if (headlines_df.at[index, 'sentiment_score'] > 0):\n",
    "        headlines_df.at[index, 'sentiment_meaning'] = \"positive\"\n",
    "    elif (headlines_df.at[index, 'sentiment_score'] < 0):\n",
    "        headlines_df.at[index, 'sentiment_meaning'] = \"negative\"\n",
    "    else:\n",
    "        headlines_df.at[index, 'sentiment_meaning'] = \"neutral\"\n",
    "    \n",
    "headlines_df # display output"
   ]
  },
  {
   "cell_type": "code",
   "execution_count": 9,
   "metadata": {
    "slideshow": {
     "slide_type": "slide"
    }
   },
   "outputs": [
    {
     "data": {
      "text/html": [
       "<div>\n",
       "<style scoped>\n",
       "    .dataframe tbody tr th:only-of-type {\n",
       "        vertical-align: middle;\n",
       "    }\n",
       "\n",
       "    .dataframe tbody tr th {\n",
       "        vertical-align: top;\n",
       "    }\n",
       "\n",
       "    .dataframe thead th {\n",
       "        text-align: right;\n",
       "    }\n",
       "</style>\n",
       "<table border=\"1\" class=\"dataframe\">\n",
       "  <thead>\n",
       "    <tr style=\"text-align: right;\">\n",
       "      <th></th>\n",
       "      <th>time_created</th>\n",
       "      <th>date_created</th>\n",
       "      <th>up_votes</th>\n",
       "      <th>down_votes</th>\n",
       "      <th>title</th>\n",
       "      <th>over_18</th>\n",
       "      <th>author</th>\n",
       "      <th>subreddit</th>\n",
       "    </tr>\n",
       "  </thead>\n",
       "  <tbody>\n",
       "    <tr>\n",
       "      <th>0</th>\n",
       "      <td>1201232046</td>\n",
       "      <td>2008-01-25</td>\n",
       "      <td>3</td>\n",
       "      <td>0</td>\n",
       "      <td>Scores killed in Pakistan clashes</td>\n",
       "      <td>False</td>\n",
       "      <td>polar</td>\n",
       "      <td>worldnews</td>\n",
       "    </tr>\n",
       "    <tr>\n",
       "      <th>1</th>\n",
       "      <td>1201232075</td>\n",
       "      <td>2008-01-25</td>\n",
       "      <td>2</td>\n",
       "      <td>0</td>\n",
       "      <td>Japan resumes refuelling mission</td>\n",
       "      <td>False</td>\n",
       "      <td>polar</td>\n",
       "      <td>worldnews</td>\n",
       "    </tr>\n",
       "    <tr>\n",
       "      <th>2</th>\n",
       "      <td>1201232523</td>\n",
       "      <td>2008-01-25</td>\n",
       "      <td>3</td>\n",
       "      <td>0</td>\n",
       "      <td>US presses Egypt on Gaza border</td>\n",
       "      <td>False</td>\n",
       "      <td>polar</td>\n",
       "      <td>worldnews</td>\n",
       "    </tr>\n",
       "    <tr>\n",
       "      <th>3</th>\n",
       "      <td>1201233290</td>\n",
       "      <td>2008-01-25</td>\n",
       "      <td>1</td>\n",
       "      <td>0</td>\n",
       "      <td>Jump-start economy: Give health care to all</td>\n",
       "      <td>False</td>\n",
       "      <td>fadi420</td>\n",
       "      <td>worldnews</td>\n",
       "    </tr>\n",
       "    <tr>\n",
       "      <th>4</th>\n",
       "      <td>1201274720</td>\n",
       "      <td>2008-01-25</td>\n",
       "      <td>4</td>\n",
       "      <td>0</td>\n",
       "      <td>Council of Europe bashes EU&amp;UN terror blacklist</td>\n",
       "      <td>False</td>\n",
       "      <td>mhermans</td>\n",
       "      <td>worldnews</td>\n",
       "    </tr>\n",
       "  </tbody>\n",
       "</table>\n",
       "</div>"
      ],
      "text/plain": [
       "   time_created date_created  up_votes  down_votes  \\\n",
       "0    1201232046   2008-01-25         3           0   \n",
       "1    1201232075   2008-01-25         2           0   \n",
       "2    1201232523   2008-01-25         3           0   \n",
       "3    1201233290   2008-01-25         1           0   \n",
       "4    1201274720   2008-01-25         4           0   \n",
       "\n",
       "                                             title  over_18    author  \\\n",
       "0                Scores killed in Pakistan clashes    False     polar   \n",
       "1                 Japan resumes refuelling mission    False     polar   \n",
       "2                  US presses Egypt on Gaza border    False     polar   \n",
       "3     Jump-start economy: Give health care to all     False   fadi420   \n",
       "4  Council of Europe bashes EU&UN terror blacklist    False  mhermans   \n",
       "\n",
       "   subreddit  \n",
       "0  worldnews  \n",
       "1  worldnews  \n",
       "2  worldnews  \n",
       "3  worldnews  \n",
       "4  worldnews  "
      ]
     },
     "execution_count": 9,
     "metadata": {},
     "output_type": "execute_result"
    }
   ],
   "source": [
    "import pandas as pd                                        # to read csv files and save dataframes\n",
    " \n",
    "headlines_df = pd.read_csv('reddit_worldnews_start_to_2016-11-22.csv') # read csv file\n",
    "\n",
    "headlines_df.head()                                        # display first few rows"
   ]
  },
  {
   "cell_type": "code",
   "execution_count": 10,
   "metadata": {
    "slideshow": {
     "slide_type": "slide"
    }
   },
   "outputs": [],
   "source": [
    "# add new columns for score and meaning of score \n",
    "headlines_df['sentiment_score'] = float(0)\n",
    "headlines_df['sentiment_meaning'] = \"\"\n",
    "\n",
    "# iterate through saved dataframe, analyze sentiment, save sentiment and meaning into new columns of dataframe\n",
    "for index, row in headlines_df.iterrows():\n",
    "    headlines_df.at[index, 'sentiment_score'] = SIA.polarity_scores(row['title'])['compound']\n",
    "    if (headlines_df.at[index, 'sentiment_score'] > 0):\n",
    "        headlines_df.at[index, 'sentiment_meaning'] = \"positive\"\n",
    "    elif (headlines_df.at[index, 'sentiment_score'] < 0):\n",
    "        headlines_df.at[index, 'sentiment_meaning'] = \"negative\"\n",
    "    else:\n",
    "        headlines_df.at[index, 'sentiment_meaning'] = \"neutral\"\n",
    "        \n",
    "    headlines_df.at[index, 'score'] = headlines_df.at[index, 'up_votes'] - headlines_df.at[index, 'down_votes']  #create a new column to see the difference of up votes and down votes\n",
    "    \n"
   ]
  },
  {
   "cell_type": "code",
   "execution_count": 11,
   "metadata": {
    "slideshow": {
     "slide_type": "subslide"
    }
   },
   "outputs": [
    {
     "data": {
      "text/html": [
       "<div>\n",
       "<style scoped>\n",
       "    .dataframe tbody tr th:only-of-type {\n",
       "        vertical-align: middle;\n",
       "    }\n",
       "\n",
       "    .dataframe tbody tr th {\n",
       "        vertical-align: top;\n",
       "    }\n",
       "\n",
       "    .dataframe thead th {\n",
       "        text-align: right;\n",
       "    }\n",
       "</style>\n",
       "<table border=\"1\" class=\"dataframe\">\n",
       "  <thead>\n",
       "    <tr style=\"text-align: right;\">\n",
       "      <th></th>\n",
       "      <th>time_created</th>\n",
       "      <th>date_created</th>\n",
       "      <th>up_votes</th>\n",
       "      <th>down_votes</th>\n",
       "      <th>title</th>\n",
       "      <th>over_18</th>\n",
       "      <th>author</th>\n",
       "      <th>subreddit</th>\n",
       "      <th>sentiment_score</th>\n",
       "      <th>sentiment_meaning</th>\n",
       "      <th>score</th>\n",
       "    </tr>\n",
       "  </thead>\n",
       "  <tbody>\n",
       "    <tr>\n",
       "      <th>0</th>\n",
       "      <td>1201232046</td>\n",
       "      <td>2008-01-25</td>\n",
       "      <td>3</td>\n",
       "      <td>0</td>\n",
       "      <td>Scores killed in Pakistan clashes</td>\n",
       "      <td>False</td>\n",
       "      <td>polar</td>\n",
       "      <td>worldnews</td>\n",
       "      <td>-0.6705</td>\n",
       "      <td>negative</td>\n",
       "      <td>3.0</td>\n",
       "    </tr>\n",
       "    <tr>\n",
       "      <th>1</th>\n",
       "      <td>1201232075</td>\n",
       "      <td>2008-01-25</td>\n",
       "      <td>2</td>\n",
       "      <td>0</td>\n",
       "      <td>Japan resumes refuelling mission</td>\n",
       "      <td>False</td>\n",
       "      <td>polar</td>\n",
       "      <td>worldnews</td>\n",
       "      <td>0.0000</td>\n",
       "      <td>neutral</td>\n",
       "      <td>2.0</td>\n",
       "    </tr>\n",
       "    <tr>\n",
       "      <th>2</th>\n",
       "      <td>1201232523</td>\n",
       "      <td>2008-01-25</td>\n",
       "      <td>3</td>\n",
       "      <td>0</td>\n",
       "      <td>US presses Egypt on Gaza border</td>\n",
       "      <td>False</td>\n",
       "      <td>polar</td>\n",
       "      <td>worldnews</td>\n",
       "      <td>0.0000</td>\n",
       "      <td>neutral</td>\n",
       "      <td>3.0</td>\n",
       "    </tr>\n",
       "    <tr>\n",
       "      <th>3</th>\n",
       "      <td>1201233290</td>\n",
       "      <td>2008-01-25</td>\n",
       "      <td>1</td>\n",
       "      <td>0</td>\n",
       "      <td>Jump-start economy: Give health care to all</td>\n",
       "      <td>False</td>\n",
       "      <td>fadi420</td>\n",
       "      <td>worldnews</td>\n",
       "      <td>0.4939</td>\n",
       "      <td>positive</td>\n",
       "      <td>1.0</td>\n",
       "    </tr>\n",
       "    <tr>\n",
       "      <th>4</th>\n",
       "      <td>1201274720</td>\n",
       "      <td>2008-01-25</td>\n",
       "      <td>4</td>\n",
       "      <td>0</td>\n",
       "      <td>Council of Europe bashes EU&amp;UN terror blacklist</td>\n",
       "      <td>False</td>\n",
       "      <td>mhermans</td>\n",
       "      <td>worldnews</td>\n",
       "      <td>-0.5267</td>\n",
       "      <td>negative</td>\n",
       "      <td>4.0</td>\n",
       "    </tr>\n",
       "    <tr>\n",
       "      <th>...</th>\n",
       "      <td>...</td>\n",
       "      <td>...</td>\n",
       "      <td>...</td>\n",
       "      <td>...</td>\n",
       "      <td>...</td>\n",
       "      <td>...</td>\n",
       "      <td>...</td>\n",
       "      <td>...</td>\n",
       "      <td>...</td>\n",
       "      <td>...</td>\n",
       "      <td>...</td>\n",
       "    </tr>\n",
       "    <tr>\n",
       "      <th>509231</th>\n",
       "      <td>1479816764</td>\n",
       "      <td>2016-11-22</td>\n",
       "      <td>5</td>\n",
       "      <td>0</td>\n",
       "      <td>Heil Trump : Donald Trump s  alt-right  white...</td>\n",
       "      <td>False</td>\n",
       "      <td>nonamenoglory</td>\n",
       "      <td>worldnews</td>\n",
       "      <td>0.4404</td>\n",
       "      <td>positive</td>\n",
       "      <td>5.0</td>\n",
       "    </tr>\n",
       "    <tr>\n",
       "      <th>509232</th>\n",
       "      <td>1479816772</td>\n",
       "      <td>2016-11-22</td>\n",
       "      <td>1</td>\n",
       "      <td>0</td>\n",
       "      <td>There are people speculating that this could b...</td>\n",
       "      <td>False</td>\n",
       "      <td>SummerRay</td>\n",
       "      <td>worldnews</td>\n",
       "      <td>0.0000</td>\n",
       "      <td>neutral</td>\n",
       "      <td>1.0</td>\n",
       "    </tr>\n",
       "    <tr>\n",
       "      <th>509233</th>\n",
       "      <td>1479817056</td>\n",
       "      <td>2016-11-22</td>\n",
       "      <td>1</td>\n",
       "      <td>0</td>\n",
       "      <td>Professor receives Arab Researchers Award</td>\n",
       "      <td>False</td>\n",
       "      <td>AUSharjah</td>\n",
       "      <td>worldnews</td>\n",
       "      <td>0.5423</td>\n",
       "      <td>positive</td>\n",
       "      <td>1.0</td>\n",
       "    </tr>\n",
       "    <tr>\n",
       "      <th>509234</th>\n",
       "      <td>1479817157</td>\n",
       "      <td>2016-11-22</td>\n",
       "      <td>1</td>\n",
       "      <td>0</td>\n",
       "      <td>Nigel Farage attacks response to Trump ambassa...</td>\n",
       "      <td>False</td>\n",
       "      <td>smilyflower</td>\n",
       "      <td>worldnews</td>\n",
       "      <td>-0.4404</td>\n",
       "      <td>negative</td>\n",
       "      <td>1.0</td>\n",
       "    </tr>\n",
       "    <tr>\n",
       "      <th>509235</th>\n",
       "      <td>1479817346</td>\n",
       "      <td>2016-11-22</td>\n",
       "      <td>1</td>\n",
       "      <td>0</td>\n",
       "      <td>Palestinian wielding knife shot dead in West B...</td>\n",
       "      <td>False</td>\n",
       "      <td>superislam</td>\n",
       "      <td>worldnews</td>\n",
       "      <td>-0.6486</td>\n",
       "      <td>negative</td>\n",
       "      <td>1.0</td>\n",
       "    </tr>\n",
       "  </tbody>\n",
       "</table>\n",
       "<p>509236 rows × 11 columns</p>\n",
       "</div>"
      ],
      "text/plain": [
       "        time_created date_created  up_votes  down_votes  \\\n",
       "0         1201232046   2008-01-25         3           0   \n",
       "1         1201232075   2008-01-25         2           0   \n",
       "2         1201232523   2008-01-25         3           0   \n",
       "3         1201233290   2008-01-25         1           0   \n",
       "4         1201274720   2008-01-25         4           0   \n",
       "...              ...          ...       ...         ...   \n",
       "509231    1479816764   2016-11-22         5           0   \n",
       "509232    1479816772   2016-11-22         1           0   \n",
       "509233    1479817056   2016-11-22         1           0   \n",
       "509234    1479817157   2016-11-22         1           0   \n",
       "509235    1479817346   2016-11-22         1           0   \n",
       "\n",
       "                                                    title  over_18  \\\n",
       "0                       Scores killed in Pakistan clashes    False   \n",
       "1                        Japan resumes refuelling mission    False   \n",
       "2                         US presses Egypt on Gaza border    False   \n",
       "3            Jump-start economy: Give health care to all     False   \n",
       "4         Council of Europe bashes EU&UN terror blacklist    False   \n",
       "...                                                   ...      ...   \n",
       "509231   Heil Trump : Donald Trump s  alt-right  white...    False   \n",
       "509232  There are people speculating that this could b...    False   \n",
       "509233          Professor receives Arab Researchers Award    False   \n",
       "509234  Nigel Farage attacks response to Trump ambassa...    False   \n",
       "509235  Palestinian wielding knife shot dead in West B...    False   \n",
       "\n",
       "               author  subreddit  sentiment_score sentiment_meaning  score  \n",
       "0               polar  worldnews          -0.6705          negative    3.0  \n",
       "1               polar  worldnews           0.0000           neutral    2.0  \n",
       "2               polar  worldnews           0.0000           neutral    3.0  \n",
       "3             fadi420  worldnews           0.4939          positive    1.0  \n",
       "4            mhermans  worldnews          -0.5267          negative    4.0  \n",
       "...               ...        ...              ...               ...    ...  \n",
       "509231  nonamenoglory  worldnews           0.4404          positive    5.0  \n",
       "509232      SummerRay  worldnews           0.0000           neutral    1.0  \n",
       "509233      AUSharjah  worldnews           0.5423          positive    1.0  \n",
       "509234    smilyflower  worldnews          -0.4404          negative    1.0  \n",
       "509235     superislam  worldnews          -0.6486          negative    1.0  \n",
       "\n",
       "[509236 rows x 11 columns]"
      ]
     },
     "execution_count": 11,
     "metadata": {},
     "output_type": "execute_result"
    }
   ],
   "source": [
    "headlines_df # display output"
   ]
  },
  {
   "cell_type": "code",
   "execution_count": 12,
   "metadata": {
    "slideshow": {
     "slide_type": "slide"
    }
   },
   "outputs": [
    {
     "data": {
      "image/png": "[encoded data removed]",
      "text/plain": [
       "<Figure size 432x288 with 1 Axes>"
      ]
     },
     "metadata": {
      "needs_background": "light"
     },
     "output_type": "display_data"
    }
   ],
   "source": [
    "import matplotlib.pyplot as plt\n",
    "from matplotlib import cm\n",
    "\n",
    "plot = plt.axes()\n",
    "plot.set_facecolor('black')                                            # background colour of the figure             \n",
    "plt.scatter(x = headlines_df['sentiment_score'], y = headlines_df['score'], c = headlines_df['sentiment_score'], s = 1, cmap='Spectral')    # the sentiment score as scatter plot\n",
    "plt.title(\"Reddit Sentiment Analysis\")                                # title\n",
    "plt.xlabel('Sentiment Score')                                         # x-axis label\n",
    "plt.ylabel('Reddit Score')                                            # y-axis label\n",
    "plt.savefig('fig1.png', dpi = 600)                                    # this function is used to export the figure as .png file with a higher resolution so that we could use it at slides\n",
    "\n",
    "plt.show()"
   ]
  },
  {
   "cell_type": "code",
   "execution_count": 13,
   "metadata": {
    "slideshow": {
     "slide_type": "fragment"
    }
   },
   "outputs": [
    {
     "data": {
      "text/plain": [
       "21253"
      ]
     },
     "execution_count": 13,
     "metadata": {},
     "output_type": "execute_result"
    }
   ],
   "source": [
    "max(headlines_df['up_votes'])                                          # check the validation of the data"
   ]
  },
  {
   "cell_type": "markdown",
   "metadata": {
    "slideshow": {
     "slide_type": "slide"
    }
   },
   "source": [
    "### References\n",
    "\n",
    " - Guercini, S., Misopoulos, F., Mitic, M., Kapoulas, A., & Karapiperis, C. (2014). Uncovering customer service experiences with Twitter: the case of airline industry. Management Decision.\n",
    " - Beigi, G., Hu, X., Maciejewski, R., & Liu, H. (2016). An overview of sentiment analysis in social media and its applications in disaster relief. Sentiment analysis and ontology engineering, 313-340.\n",
    " - Mäntylä, M. V., Graziotin, D., & Kuutila, M. (2018). The evolution of sentiment analysis—A review of research topics, venues, and top cited papers. Computer Science Review, 27, 16-32.\n",
    " - Hutto, C.J., Gilbert, E. (2014). VADER: A Parsimonious Rule-based Model for Sentiment Analysis of Social Media Text. ICWSM 2014, 216-225.\n"
   ]
  },
  {
   "cell_type": "markdown",
   "metadata": {
    "slideshow": {
     "slide_type": "subslide"
    }
   },
   "source": [
    " - Tumasjan, A., Sprenger, T., Sandner, P., Welpe, I. (2010) Predicting Elections with Twitter: What 140 Characters Reveal about Political Sentiment. ICWSM 2014, 178-185."
   ]
  }
 ],
 "metadata": {
  "celltoolbar": "Slideshow",
  "kernelspec": {
   "display_name": "Python 3",
   "language": "python",
   "name": "python3"
  },
  "language_info": {
   "codemirror_mode": {
    "name": "ipython",
    "version": 3
   },
   "file_extension": ".py",
   "mimetype": "text/x-python",
   "name": "python",
   "nbconvert_exporter": "python",
   "pygments_lexer": "ipython3",
   "version": "3.8.8"
  }
 },
 "nbformat": 4,
 "nbformat_minor": 4
}
